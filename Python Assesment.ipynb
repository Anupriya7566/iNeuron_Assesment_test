{
 "cells": [
  {
   "cell_type": "markdown",
   "id": "4ee2d3da",
   "metadata": {},
   "source": [
    "# Python"
   ]
  },
  {
   "cell_type": "markdown",
   "id": "4bc3753a",
   "metadata": {},
   "source": [
    "# 2nd Problem Statement"
   ]
  },
  {
   "cell_type": "markdown",
   "id": "02d1ea95",
   "metadata": {},
   "source": [
    "# Test1"
   ]
  },
  {
   "cell_type": "code",
   "execution_count": 55,
   "id": "052287ec",
   "metadata": {},
   "outputs": [
    {
     "name": "stdout",
     "output_type": "stream",
     "text": [
      "Frequency of  write : 3 \n",
      "Frequency of  all : 1 \n",
      "Frequency of  the : 1 \n",
      "Frequency of  number : 1 \n",
      "Frequency of  from : 3 \n",
      "Frequency of  1 : 1 \n",
      "Frequency of  to : 1 \n",
      "Frequency of  100 : 1 \n"
     ]
    }
   ],
   "source": [
    "#we Define a function count.\n",
    "\n",
    "def count(elements):\n",
    "    \n",
    "    if elements[-1] == '.':\n",
    "        elements = elements[0:len(elements) - 1]\n",
    " \n",
    " # increase its value.\n",
    "    if elements in dictionary:\n",
    "        dictionary[elements] += 1\n",
    "    # then create a key \"elements\" and assign its value to 1.\n",
    "    else:\n",
    "        dictionary.update({elements: 1})\n",
    " \n",
    " \n",
    "Sentence = \"write write write all the number from from from 1 to 100\"\n",
    " \n",
    "# Declare a dictionary\n",
    "dictionary = {}\n",
    " \n",
    "# split all the word of the string.\n",
    "lst = Sentence.split()\n",
    " \n",
    "# take each word from lst and pass it to the method count.\n",
    "for elements in lst:\n",
    "    count(elements)\n",
    " \n",
    " # print the keys and its corresponding values.\n",
    "for allKeys in dictionary:\n",
    "    print (\"Frequency of \", allKeys, end = \" \")\n",
    "    print (\":\", end = \" \")\n",
    "    print (dictionary[allKeys], end = \" \")\n",
    "    print()"
   ]
  },
  {
   "cell_type": "markdown",
   "id": "1c25e4c5",
   "metadata": {},
   "source": [
    "# Test2"
   ]
  },
  {
   "cell_type": "code",
   "execution_count": 44,
   "id": "3bb37d10",
   "metadata": {},
   "outputs": [
    {
     "name": "stdout",
     "output_type": "stream",
     "text": [
      "Frequency of  number is : 1\n",
      "Frequency of  to is : 1\n",
      "Frequency of  1 is : 1\n",
      "Frequency of  100 is : 1\n",
      "Frequency of  from is : 3\n",
      "Frequency of  write is : 3\n",
      "Frequency of  all is : 1\n",
      "Frequency of  the is : 1\n"
     ]
    }
   ],
   "source": [
    "#we define a function frequency.\n",
    "def freq(str):\n",
    " \n",
    " #we  break the string into list of words\n",
    "    str_list = str.split()\n",
    " \n",
    "    # gives set of unique words\n",
    "    unique_words = set(str_list)\n",
    "     \n",
    "    for words in unique_words :\n",
    "        print('Frequency of ', words , 'is :', str_list.count(words))\n",
    " \n",
    " # driver code\n",
    "if __name__ == \"__main__\":\n",
    "     \n",
    "    str =\"write write write all the number from from from 1 to 100\" \n",
    "     \n",
    "    # calling the freq function\n",
    "    freq(str)"
   ]
  },
  {
   "cell_type": "code",
   "execution_count": null,
   "id": "addaebe0",
   "metadata": {},
   "outputs": [],
   "source": []
  },
  {
   "cell_type": "markdown",
   "id": "257feea0",
   "metadata": {},
   "source": [
    "# 1st Problem Statement"
   ]
  },
  {
   "cell_type": "code",
   "execution_count": 56,
   "id": "17405839",
   "metadata": {},
   "outputs": [
    {
     "name": "stdout",
     "output_type": "stream",
     "text": [
      "True\n"
     ]
    }
   ],
   "source": [
    "# we define a function search_matrix.\n",
    "def search_matrix(matrix, target):\n",
    "    if not matrix or not matrix[0]:\n",
    "        return False\n",
    "\n",
    "    rows, cols = len(matrix), len(matrix[0])\n",
    "    left, right = 0, rows * cols - 1\n",
    "\n",
    "    while left <= right:\n",
    "        mid = (left + right) // 2\n",
    "        mid_value = matrix[mid // cols][mid % cols]\n",
    "\n",
    "        if mid_value == target:\n",
    "            return True\n",
    "        elif mid_value < target:\n",
    "            left = mid + 1\n",
    "        else:\n",
    "            right = mid - 1\n",
    "\n",
    "    return False\n",
    "\n",
    "matrix = [[1, 3, 5, 7], [10, 11, 16, 20], [23, 30, 34, 60]]\n",
    "target = 3\n",
    "output = search_matrix(matrix, target)\n",
    "print(output) \n"
   ]
  },
  {
   "cell_type": "code",
   "execution_count": null,
   "id": "88ef8c89",
   "metadata": {},
   "outputs": [],
   "source": []
  },
  {
   "cell_type": "code",
   "execution_count": null,
   "id": "5458bc5d",
   "metadata": {},
   "outputs": [],
   "source": []
  },
  {
   "cell_type": "code",
   "execution_count": null,
   "id": "e538eaac",
   "metadata": {},
   "outputs": [],
   "source": []
  },
  {
   "cell_type": "code",
   "execution_count": null,
   "id": "577d4779",
   "metadata": {},
   "outputs": [],
   "source": []
  },
  {
   "cell_type": "code",
   "execution_count": null,
   "id": "d5d5d9ec",
   "metadata": {},
   "outputs": [],
   "source": []
  },
  {
   "cell_type": "code",
   "execution_count": null,
   "id": "02b27d53",
   "metadata": {},
   "outputs": [],
   "source": []
  },
  {
   "cell_type": "code",
   "execution_count": null,
   "id": "1d98c169",
   "metadata": {},
   "outputs": [],
   "source": []
  },
  {
   "cell_type": "code",
   "execution_count": null,
   "id": "e155f420",
   "metadata": {},
   "outputs": [],
   "source": []
  },
  {
   "cell_type": "code",
   "execution_count": null,
   "id": "e4f3c8dc",
   "metadata": {},
   "outputs": [],
   "source": []
  },
  {
   "cell_type": "code",
   "execution_count": null,
   "id": "9640e169",
   "metadata": {},
   "outputs": [],
   "source": []
  },
  {
   "cell_type": "code",
   "execution_count": null,
   "id": "b776f738",
   "metadata": {},
   "outputs": [],
   "source": []
  },
  {
   "cell_type": "code",
   "execution_count": null,
   "id": "9d6b5b53",
   "metadata": {},
   "outputs": [],
   "source": []
  },
  {
   "cell_type": "code",
   "execution_count": null,
   "id": "f5d2f97e",
   "metadata": {},
   "outputs": [],
   "source": []
  },
  {
   "cell_type": "code",
   "execution_count": null,
   "id": "81f041d5",
   "metadata": {},
   "outputs": [],
   "source": []
  },
  {
   "cell_type": "code",
   "execution_count": null,
   "id": "0bc8f04f",
   "metadata": {},
   "outputs": [],
   "source": []
  },
  {
   "cell_type": "code",
   "execution_count": null,
   "id": "68a6bf8e",
   "metadata": {},
   "outputs": [],
   "source": []
  },
  {
   "cell_type": "code",
   "execution_count": null,
   "id": "bb766b5a",
   "metadata": {},
   "outputs": [],
   "source": []
  },
  {
   "cell_type": "code",
   "execution_count": null,
   "id": "1a2c3385",
   "metadata": {},
   "outputs": [],
   "source": []
  }
 ],
 "metadata": {
  "kernelspec": {
   "display_name": "Python 3 (ipykernel)",
   "language": "python",
   "name": "python3"
  },
  "language_info": {
   "codemirror_mode": {
    "name": "ipython",
    "version": 3
   },
   "file_extension": ".py",
   "mimetype": "text/x-python",
   "name": "python",
   "nbconvert_exporter": "python",
   "pygments_lexer": "ipython3",
   "version": "3.10.9"
  }
 },
 "nbformat": 4,
 "nbformat_minor": 5
}
